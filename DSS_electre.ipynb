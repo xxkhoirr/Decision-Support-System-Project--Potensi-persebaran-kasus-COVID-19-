{
  "nbformat": 4,
  "nbformat_minor": 0,
  "metadata": {
    "colab": {
      "provenance": [],
      "collapsed_sections": []
    },
    "kernelspec": {
      "name": "python3",
      "display_name": "Python 3"
    },
    "language_info": {
      "name": "python"
    }
  },
  "cells": [
    {
      "cell_type": "code",
      "metadata": {
        "id": "HdLnk73qM96T"
      },
      "source": [
        "import math\n",
        "import sys\n",
        "import numpy as np\n",
        "np.set_printoptions(threshold=sys.maxsize)\n",
        "import pandas as pd\n",
        "from scipy import linalg\n",
        "from tabulate import tabulate"
      ],
      "execution_count": null,
      "outputs": []
    },
    {
      "cell_type": "code",
      "metadata": {
        "colab": {
          "base_uri": "https://localhost:8080/"
        },
        "id": "6btcz7r6mypx",
        "outputId": "ed2c47d1-dbc5-4120-f4c7-34be81065e05"
      },
      "source": [
        "from google.colab import drive\n",
        "drive.mount ('/content/drive', force_remount=True)"
      ],
      "execution_count": null,
      "outputs": [
        {
          "output_type": "stream",
          "text": [
            "Mounted at /content/drive\n"
          ],
          "name": "stdout"
        }
      ]
    },
    {
      "cell_type": "markdown",
      "metadata": {
        "id": "jDFps3mJG5Y7"
      },
      "source": [
        "PREPROCESSING DATA\n",
        "==============================================="
      ]
    },
    {
      "cell_type": "code",
      "metadata": {
        "id": "NZE-kK6Hm_9j"
      },
      "source": [
        "PATH = '/content/drive/My Drive/Colab Notebooks/dataset/projectDSSv2.csv'\n",
        "df = pd.read_csv(PATH)\n",
        "df"
      ],
      "execution_count": null,
      "outputs": []
    },
    {
      "cell_type": "code",
      "metadata": {
        "colab": {
          "base_uri": "https://localhost:8080/",
          "height": 295
        },
        "id": "jp4WguMG9326",
        "outputId": "1e6014e1-6eb9-4a82-9051-62fd325b82f0"
      },
      "source": [
        "PATH = '/content/drive/My Drive/Colab Notebooks/dataset/ProjectDSS.csv'\n",
        "df = pd.read_csv(PATH)\n",
        "df"
      ],
      "execution_count": null,
      "outputs": [
        {
          "output_type": "execute_result",
          "data": {
            "text/html": [
              "<div>\n",
              "<style scoped>\n",
              "    .dataframe tbody tr th:only-of-type {\n",
              "        vertical-align: middle;\n",
              "    }\n",
              "\n",
              "    .dataframe tbody tr th {\n",
              "        vertical-align: top;\n",
              "    }\n",
              "\n",
              "    .dataframe thead th {\n",
              "        text-align: right;\n",
              "    }\n",
              "</style>\n",
              "<table border=\"1\" class=\"dataframe\">\n",
              "  <thead>\n",
              "    <tr style=\"text-align: right;\">\n",
              "      <th></th>\n",
              "      <th>Provinsi</th>\n",
              "      <th>Kepadatan Penduduk (jiwa/km2)</th>\n",
              "      <th>Jumlah Penduduk Miskin (Ribu Jiwa)</th>\n",
              "      <th>Persentase Penduduk yang Mempunyai Keluhan Kesehatan Selama Sebulan Terakhir (Persen)</th>\n",
              "      <th>Jumlah Mahasiswa(Negeri dan Swasta) di Bawah Kementerian Riset, Teknologi dan Pendidikan Tinggi/Kementerian Pendidikan dan Kebudayaan Menurut Provinsi,</th>\n",
              "      <th>Pekerja Mover (Komuter)</th>\n",
              "      <th>Persentase Penduduk Lansia</th>\n",
              "    </tr>\n",
              "  </thead>\n",
              "  <tbody>\n",
              "    <tr>\n",
              "      <th>0</th>\n",
              "      <td>DKI JAKARTA</td>\n",
              "      <td>15900</td>\n",
              "      <td>496.84</td>\n",
              "      <td>33.80</td>\n",
              "      <td>707707</td>\n",
              "      <td>1035784</td>\n",
              "      <td>8.21</td>\n",
              "    </tr>\n",
              "    <tr>\n",
              "      <th>1</th>\n",
              "      <td>JAWA BARAT</td>\n",
              "      <td>1394</td>\n",
              "      <td>4188.52</td>\n",
              "      <td>32.04</td>\n",
              "      <td>751785</td>\n",
              "      <td>2312831</td>\n",
              "      <td>9.59</td>\n",
              "    </tr>\n",
              "    <tr>\n",
              "      <th>2</th>\n",
              "      <td>JAWA TENGAH</td>\n",
              "      <td>1058</td>\n",
              "      <td>4119.93</td>\n",
              "      <td>35.63</td>\n",
              "      <td>572837</td>\n",
              "      <td>1092459</td>\n",
              "      <td>13.81</td>\n",
              "    </tr>\n",
              "    <tr>\n",
              "      <th>3</th>\n",
              "      <td>DI YOGYAKARTA</td>\n",
              "      <td>1227</td>\n",
              "      <td>503.14</td>\n",
              "      <td>38.07</td>\n",
              "      <td>369831</td>\n",
              "      <td>277830</td>\n",
              "      <td>14.71</td>\n",
              "    </tr>\n",
              "    <tr>\n",
              "      <th>4</th>\n",
              "      <td>JAWA TIMUR</td>\n",
              "      <td>831</td>\n",
              "      <td>4585.97</td>\n",
              "      <td>32.80</td>\n",
              "      <td>818111</td>\n",
              "      <td>1038899</td>\n",
              "      <td>13.38</td>\n",
              "    </tr>\n",
              "    <tr>\n",
              "      <th>5</th>\n",
              "      <td>BANTEN</td>\n",
              "      <td>1338</td>\n",
              "      <td>857.64</td>\n",
              "      <td>32.22</td>\n",
              "      <td>1308214</td>\n",
              "      <td>795314</td>\n",
              "      <td>6.60</td>\n",
              "    </tr>\n",
              "  </tbody>\n",
              "</table>\n",
              "</div>"
            ],
            "text/plain": [
              "        Provinsi  ...  Persentase Penduduk Lansia \n",
              "0    DKI JAKARTA  ...                         8.21\n",
              "1     JAWA BARAT  ...                         9.59\n",
              "2    JAWA TENGAH  ...                        13.81\n",
              "3  DI YOGYAKARTA  ...                        14.71\n",
              "4     JAWA TIMUR  ...                        13.38\n",
              "5         BANTEN  ...                         6.60\n",
              "\n",
              "[6 rows x 7 columns]"
            ]
          },
          "metadata": {
            "tags": []
          },
          "execution_count": 6
        }
      ]
    },
    {
      "cell_type": "code",
      "metadata": {
        "colab": {
          "base_uri": "https://localhost:8080/"
        },
        "id": "DldZRDAmn7ws",
        "outputId": "c55b6c4c-4df8-42f4-88f8-2b44f054a3a5"
      },
      "source": [
        "kriteria = np.array ([\n",
        "              'kepadatan_penduduk',\n",
        "              'jumlah_penduduk_miskin',\n",
        "              'persentase_keluhan_penyakit',\n",
        "              'jumlah_mahasiswa',\n",
        "              'jumlah_pekerja_komuter',\n",
        "              'persentase_penduduk_lansia'\n",
        "])\n",
        "\n",
        "indexing_C = pd.Series(kriteria, index = ['C1', 'C2', 'C3', 'C4', 'C5', 'C6'])\n",
        "print(indexing_C)"
      ],
      "execution_count": null,
      "outputs": [
        {
          "output_type": "stream",
          "text": [
            "C1             kepadatan_penduduk\n",
            "C2         jumlah_penduduk_miskin\n",
            "C3    persentase_keluhan_penyakit\n",
            "C4               jumlah_mahasiswa\n",
            "C5         jumlah_pekerja_komuter\n",
            "C6     persentase_penduduk_lansia\n",
            "dtype: object\n"
          ],
          "name": "stdout"
        }
      ]
    },
    {
      "cell_type": "code",
      "metadata": {
        "colab": {
          "base_uri": "https://localhost:8080/"
        },
        "id": "toVfpln4n8aS",
        "outputId": "6a674942-e2b6-4b2e-8576-cb92e7e2ae86"
      },
      "source": [
        "alternatif = np.array ([\n",
        "                        'DKI JAKARTA',\n",
        "                        'JAWA BARAT',\n",
        "                        'JAWA TENGAH',\n",
        "                        'DI YOGYAKARTA',\n",
        "                        'JAWA TIMUR',\n",
        "                        'BANTEN'\n",
        "])\n",
        "\n",
        "indexing_A = pd.Series(alternatif, index = ['A1','A2','A3','A4','A5','A6'])\n",
        "print(indexing_A)"
      ],
      "execution_count": null,
      "outputs": [
        {
          "output_type": "stream",
          "text": [
            "A1      DKI JAKARTA\n",
            "A2       JAWA BARAT\n",
            "A3      JAWA TENGAH\n",
            "A4    DI YOGYAKARTA\n",
            "A5       JAWA TIMUR\n",
            "A6           BANTEN\n",
            "dtype: object\n"
          ],
          "name": "stdout"
        }
      ]
    },
    {
      "cell_type": "code",
      "metadata": {
        "id": "Z3XArdGqvw9I"
      },
      "source": [
        "alternatif = np.array ([\n",
        "                        'ACEH',\n",
        "                        'SUMATERA UTARA',\n",
        "                        'SUMATERA BARAT',\n",
        "                        'RIAU',\n",
        "                        'JAMBI',\n",
        "                        'SUMATERA SELATAN',\n",
        "                        'BENGKULU',\n",
        "                        'LAMPUNG',\n",
        "                        'KEP. BANGKA BELITUNG',\n",
        "                        'KEP. RIAU',\n",
        "                        'DKI JAKARTA',\n",
        "                        'JAWA BARAT',\n",
        "                        'JAWA TENGAH',\n",
        "                        'DI YOGYAKARTA',\n",
        "                        'JAWA TIMUR',\n",
        "                        'BANTEN',\n",
        "                        'BALI',\n",
        "                        'NUSA TENGGARA BARAT',\n",
        "                        'NUSA TENGGARA TIMUR',\n",
        "                        'KALIMANTAN BARAT',\n",
        "                        'KALIMANTAN TENGAH',\n",
        "                        'KALIMANTAN SELATAN',\n",
        "                        'KALIMANTAN TIMUR',\n",
        "                        'KALIMANTAN UTARA',\n",
        "                        'SULAWESI UTARA',\n",
        "                        'SULAWESI TENGAH',\n",
        "                        'SULAWESI SELATAN',\n",
        "                        'SULAWESI TENGGARA',\n",
        "                        'GORONTALO',\n",
        "                        'SULAWESI BARAT',\n",
        "                        'MALUKU',\n",
        "                        'MALUKU UTARA',\n",
        "                        'PAPUA BARAT',\n",
        "                        'PAPUA'\n",
        "])\n",
        "\n",
        "indexing_A = pd.Series(alternatif, index = ['A1','A2','A3','A4','A5','A6', 'A7','A8','A9','A10','A11','A12','A13','A14','A15','A16','A17','A18','A19','A20','A21','A22','A23','A24','A25','A26','A27','A28','A29','A30','A31','A32','A33','A34'])\n",
        "print(indexing_A)"
      ],
      "execution_count": null,
      "outputs": []
    },
    {
      "cell_type": "code",
      "metadata": {
        "colab": {
          "base_uri": "https://localhost:8080/",
          "height": 230
        },
        "id": "DtDz74Mvn8eJ",
        "outputId": "39c76080-3578-41bc-d9ca-d74f669b0c5f"
      },
      "source": [
        "df.columns = [\n",
        "              'provinsi',\n",
        "              'kepadatan_penduduk',\n",
        "              'jumlah_penduduk_miskin',\n",
        "              'persentase_keluhan_penyakit',\n",
        "              'jumlah_mahasiswa',\n",
        "              'jumlah_pekerja_komuter',\n",
        "              'persentase_penduduk_lansia'\n",
        "]\n",
        "df"
      ],
      "execution_count": null,
      "outputs": [
        {
          "output_type": "execute_result",
          "data": {
            "text/html": [
              "<div>\n",
              "<style scoped>\n",
              "    .dataframe tbody tr th:only-of-type {\n",
              "        vertical-align: middle;\n",
              "    }\n",
              "\n",
              "    .dataframe tbody tr th {\n",
              "        vertical-align: top;\n",
              "    }\n",
              "\n",
              "    .dataframe thead th {\n",
              "        text-align: right;\n",
              "    }\n",
              "</style>\n",
              "<table border=\"1\" class=\"dataframe\">\n",
              "  <thead>\n",
              "    <tr style=\"text-align: right;\">\n",
              "      <th></th>\n",
              "      <th>provinsi</th>\n",
              "      <th>kepadatan_penduduk</th>\n",
              "      <th>jumlah_penduduk_miskin</th>\n",
              "      <th>persentase_keluhan_penyakit</th>\n",
              "      <th>jumlah_mahasiswa</th>\n",
              "      <th>jumlah_pekerja_komuter</th>\n",
              "      <th>persentase_penduduk_lansia</th>\n",
              "    </tr>\n",
              "  </thead>\n",
              "  <tbody>\n",
              "    <tr>\n",
              "      <th>0</th>\n",
              "      <td>DKI JAKARTA</td>\n",
              "      <td>15900</td>\n",
              "      <td>496.84</td>\n",
              "      <td>33.80</td>\n",
              "      <td>707707</td>\n",
              "      <td>1035784</td>\n",
              "      <td>8.21</td>\n",
              "    </tr>\n",
              "    <tr>\n",
              "      <th>1</th>\n",
              "      <td>JAWA BARAT</td>\n",
              "      <td>1394</td>\n",
              "      <td>4188.52</td>\n",
              "      <td>32.04</td>\n",
              "      <td>751785</td>\n",
              "      <td>2312831</td>\n",
              "      <td>9.59</td>\n",
              "    </tr>\n",
              "    <tr>\n",
              "      <th>2</th>\n",
              "      <td>JAWA TENGAH</td>\n",
              "      <td>1058</td>\n",
              "      <td>4119.93</td>\n",
              "      <td>35.63</td>\n",
              "      <td>572837</td>\n",
              "      <td>1092459</td>\n",
              "      <td>13.81</td>\n",
              "    </tr>\n",
              "    <tr>\n",
              "      <th>3</th>\n",
              "      <td>DI YOGYAKARTA</td>\n",
              "      <td>1227</td>\n",
              "      <td>503.14</td>\n",
              "      <td>38.07</td>\n",
              "      <td>369831</td>\n",
              "      <td>277830</td>\n",
              "      <td>14.71</td>\n",
              "    </tr>\n",
              "    <tr>\n",
              "      <th>4</th>\n",
              "      <td>JAWA TIMUR</td>\n",
              "      <td>831</td>\n",
              "      <td>4585.97</td>\n",
              "      <td>32.80</td>\n",
              "      <td>818111</td>\n",
              "      <td>1038899</td>\n",
              "      <td>13.38</td>\n",
              "    </tr>\n",
              "    <tr>\n",
              "      <th>5</th>\n",
              "      <td>BANTEN</td>\n",
              "      <td>1338</td>\n",
              "      <td>857.64</td>\n",
              "      <td>32.22</td>\n",
              "      <td>1308214</td>\n",
              "      <td>795314</td>\n",
              "      <td>6.60</td>\n",
              "    </tr>\n",
              "  </tbody>\n",
              "</table>\n",
              "</div>"
            ],
            "text/plain": [
              "        provinsi  ...  persentase_penduduk_lansia\n",
              "0    DKI JAKARTA  ...                        8.21\n",
              "1     JAWA BARAT  ...                        9.59\n",
              "2    JAWA TENGAH  ...                       13.81\n",
              "3  DI YOGYAKARTA  ...                       14.71\n",
              "4     JAWA TIMUR  ...                       13.38\n",
              "5         BANTEN  ...                        6.60\n",
              "\n",
              "[6 rows x 7 columns]"
            ]
          },
          "metadata": {
            "tags": []
          },
          "execution_count": 10
        }
      ]
    },
    {
      "cell_type": "markdown",
      "metadata": {
        "id": "iWXHx_BrHCIP"
      },
      "source": [
        "DATA YANG AKAN DIGUNAKAN"
      ]
    },
    {
      "cell_type": "code",
      "metadata": {
        "id": "WgDDmNUkn8jI"
      },
      "source": [
        "df.columns = [\n",
        "              'alternatif',\n",
        "              'C1',\n",
        "              'C2',\n",
        "              'C3',\n",
        "              'C4',\n",
        "              'C5',\n",
        "              'C6'\n",
        "]\n",
        "\n",
        "df['alternatif'] = ['A1', 'A2', 'A3', 'A4', 'A5', 'A6', 'A7','A8','A9','A10','A11','A12','A13','A14','A15','A16','A17','A18','A19','A20','A21','A22','A23','A24','A25','A26','A27','A28','A29','A30','A31','A32','A33','A34']\n",
        "dfNew = df.set_index('alternatif')\n",
        "dfNew"
      ],
      "execution_count": null,
      "outputs": []
    },
    {
      "cell_type": "code",
      "metadata": {
        "colab": {
          "base_uri": "https://localhost:8080/",
          "height": 260
        },
        "id": "KPPP1lKO-Lku",
        "outputId": "6e8cefee-c8b0-429d-9c89-40f675a1363c"
      },
      "source": [
        "df.columns = [\n",
        "              'alternatif',\n",
        "              'C1',\n",
        "              'C2',\n",
        "              'C3',\n",
        "              'C4',\n",
        "              'C5',\n",
        "              'C6'\n",
        "]\n",
        "\n",
        "df['alternatif'] = ['A1', 'A2', 'A3', 'A4', 'A5', 'A6']\n",
        "dfNew = df.set_index('alternatif')\n",
        "dfNew"
      ],
      "execution_count": null,
      "outputs": [
        {
          "output_type": "execute_result",
          "data": {
            "text/html": [
              "<div>\n",
              "<style scoped>\n",
              "    .dataframe tbody tr th:only-of-type {\n",
              "        vertical-align: middle;\n",
              "    }\n",
              "\n",
              "    .dataframe tbody tr th {\n",
              "        vertical-align: top;\n",
              "    }\n",
              "\n",
              "    .dataframe thead th {\n",
              "        text-align: right;\n",
              "    }\n",
              "</style>\n",
              "<table border=\"1\" class=\"dataframe\">\n",
              "  <thead>\n",
              "    <tr style=\"text-align: right;\">\n",
              "      <th></th>\n",
              "      <th>C1</th>\n",
              "      <th>C2</th>\n",
              "      <th>C3</th>\n",
              "      <th>C4</th>\n",
              "      <th>C5</th>\n",
              "      <th>C6</th>\n",
              "    </tr>\n",
              "    <tr>\n",
              "      <th>alternatif</th>\n",
              "      <th></th>\n",
              "      <th></th>\n",
              "      <th></th>\n",
              "      <th></th>\n",
              "      <th></th>\n",
              "      <th></th>\n",
              "    </tr>\n",
              "  </thead>\n",
              "  <tbody>\n",
              "    <tr>\n",
              "      <th>A1</th>\n",
              "      <td>15900</td>\n",
              "      <td>496.84</td>\n",
              "      <td>33.80</td>\n",
              "      <td>707707</td>\n",
              "      <td>1035784</td>\n",
              "      <td>8.21</td>\n",
              "    </tr>\n",
              "    <tr>\n",
              "      <th>A2</th>\n",
              "      <td>1394</td>\n",
              "      <td>4188.52</td>\n",
              "      <td>32.04</td>\n",
              "      <td>751785</td>\n",
              "      <td>2312831</td>\n",
              "      <td>9.59</td>\n",
              "    </tr>\n",
              "    <tr>\n",
              "      <th>A3</th>\n",
              "      <td>1058</td>\n",
              "      <td>4119.93</td>\n",
              "      <td>35.63</td>\n",
              "      <td>572837</td>\n",
              "      <td>1092459</td>\n",
              "      <td>13.81</td>\n",
              "    </tr>\n",
              "    <tr>\n",
              "      <th>A4</th>\n",
              "      <td>1227</td>\n",
              "      <td>503.14</td>\n",
              "      <td>38.07</td>\n",
              "      <td>369831</td>\n",
              "      <td>277830</td>\n",
              "      <td>14.71</td>\n",
              "    </tr>\n",
              "    <tr>\n",
              "      <th>A5</th>\n",
              "      <td>831</td>\n",
              "      <td>4585.97</td>\n",
              "      <td>32.80</td>\n",
              "      <td>818111</td>\n",
              "      <td>1038899</td>\n",
              "      <td>13.38</td>\n",
              "    </tr>\n",
              "    <tr>\n",
              "      <th>A6</th>\n",
              "      <td>1338</td>\n",
              "      <td>857.64</td>\n",
              "      <td>32.22</td>\n",
              "      <td>1308214</td>\n",
              "      <td>795314</td>\n",
              "      <td>6.60</td>\n",
              "    </tr>\n",
              "  </tbody>\n",
              "</table>\n",
              "</div>"
            ],
            "text/plain": [
              "               C1       C2     C3       C4       C5     C6\n",
              "alternatif                                                \n",
              "A1          15900   496.84  33.80   707707  1035784   8.21\n",
              "A2           1394  4188.52  32.04   751785  2312831   9.59\n",
              "A3           1058  4119.93  35.63   572837  1092459  13.81\n",
              "A4           1227   503.14  38.07   369831   277830  14.71\n",
              "A5            831  4585.97  32.80   818111  1038899  13.38\n",
              "A6           1338   857.64  32.22  1308214   795314   6.60"
            ]
          },
          "metadata": {
            "tags": []
          },
          "execution_count": 11
        }
      ]
    },
    {
      "cell_type": "markdown",
      "metadata": {
        "id": "VYt-s_E8HJp8"
      },
      "source": [
        "PROSES FUZZY - MENENTUKAN WEIGHT MASING-MASING KRITERIA\n",
        "==============================================="
      ]
    },
    {
      "cell_type": "markdown",
      "metadata": {
        "id": "dvseZwNEHWb7"
      },
      "source": [
        "(1) LINGUISTIC SCALE"
      ]
    },
    {
      "cell_type": "code",
      "metadata": {
        "colab": {
          "base_uri": "https://localhost:8080/"
        },
        "id": "YSQ58LNkJKTz",
        "outputId": "05bd8ab1-6312-45ff-97b3-296b2167e177"
      },
      "source": [
        "print('9 RANGE\\n')\n",
        "table_range = [\n",
        "               [1, '(1, 1, 2)'],\n",
        "               [2, '(1, 2, 3)'],\n",
        "               [3, '(2, 3, 4)'],\n",
        "               [4, '(3, 4, 5)'],\n",
        "               [5, '(4, 5, 6)'],\n",
        "               [6, '(5, 6, 7)'],\n",
        "               [7, '(6, 7, 8)'],\n",
        "               [8, '(7, 8, 9)'],\n",
        "               [9, '(8, 9, 10)'],\n",
        "]\n",
        "\n",
        "print(tabulate(table_range))"
      ],
      "execution_count": null,
      "outputs": [
        {
          "output_type": "stream",
          "text": [
            "9 RANGE\n",
            "\n",
            "-  ----------\n",
            "1  (1, 1, 2)\n",
            "2  (1, 2, 3)\n",
            "3  (2, 3, 4)\n",
            "4  (3, 4, 5)\n",
            "5  (4, 5, 6)\n",
            "6  (5, 6, 7)\n",
            "7  (6, 7, 8)\n",
            "8  (7, 8, 9)\n",
            "9  (8, 9, 10)\n",
            "-  ----------\n"
          ],
          "name": "stdout"
        }
      ]
    },
    {
      "cell_type": "code",
      "metadata": {
        "colab": {
          "base_uri": "https://localhost:8080/"
        },
        "id": "LKAPVaZ1LnpB",
        "outputId": "865ca3a8-36b4-47d7-98d1-6cd10cae6e49"
      },
      "source": [
        "l_scale = {\n",
        "    \"Fuzzy Number\" : [9, 8, 7, 6, 5, 4, 3, 2, 1],\n",
        "    \"Linguistic\" : ['Perfect', ' Absolute', 'Very Good', 'Fairly Good', 'Good', 'Preferable', 'Not Bad', 'Weak Advantage', 'Equal']\n",
        "}\n",
        "\n",
        "#load l_scale into Dataframe\n",
        "df_lScale = pd.DataFrame(l_scale)\n",
        "print(df_lScale)"
      ],
      "execution_count": null,
      "outputs": [
        {
          "output_type": "stream",
          "text": [
            "   Fuzzy Number      Linguistic\n",
            "0             9         Perfect\n",
            "1             8        Absolute\n",
            "2             7       Very Good\n",
            "3             6     Fairly Good\n",
            "4             5            Good\n",
            "5             4      Preferable\n",
            "6             3         Not Bad\n",
            "7             2  Weak Advantage\n",
            "8             1           Equal\n"
          ],
          "name": "stdout"
        }
      ]
    },
    {
      "cell_type": "markdown",
      "metadata": {
        "id": "GxGEaE7FM5nH"
      },
      "source": [
        "(2) PAIRWISE COMPARISON"
      ]
    },
    {
      "cell_type": "markdown",
      "metadata": {
        "id": "T44j7aRyM_wf"
      },
      "source": [
        "DETERMINE BY EXPERT"
      ]
    },
    {
      "cell_type": "code",
      "metadata": {
        "id": "bctzjndRk-g1"
      },
      "source": [
        "judge1 = np.array([\n",
        "                   [[1,1,2], [6,7,8], [4,5,6], [3,4,5], [2,3,4], [1,2,3]],\n",
        "                   [[1/8,1/7,1/6], [1,1,2], [1/3,1/2,1], [1/4,1/3,1/2], [1/5,1/4,1/3], [1/6,1/5,1/4]],\n",
        "                   [[1/6,1/5,1/4], [1,2,3], [1,1,2], [1/3,1/2,1], [1/4,1/3,1/2], [1/5,1/4,1/3]],\n",
        "                   [[1/5,1/4,1/3], [2,3,4], [1,2,3], [1,1,2], [1/3,1/2,1], [1/4,1/3,1/2]],\n",
        "                   [[1/4,1/3,1/2], [3,4,5], [2,3,4], [1,2,3], [1,1,2], [1/3,1/2,1]],\n",
        "                   [[1/3,1/2,1], [4,5,6], [3,4,5], [2,3,4], [1,2,3], [1,1,2]]\n",
        "])\n",
        "\n",
        "judge2 = np.array([\n",
        "                   [[1,1,2], [3,4,5], [2,3,4], [4,5,6], [1/3,1/2,1], [1,2,3]],\n",
        "                   [[1/5,1/4,1/3], [1,1,2], [1/3,1/2,1], [1,2,3], [1/6,1/5,1/4], [1/4,1/3,1/3]],\n",
        "                   [[1/4,1/3,1/2], [1,2,3], [1,1,2], [2,3,4], [3,4,5], [1/3,1/2,1]],\n",
        "                   [[1/6,1/5,1/4], [1/3,1/2,1], [1/4,1/3,1/2], [1,1,2], [1/8,1/7,1/6], [1/5,1/4,1/3]],\n",
        "                   [[1,2,3], [4,5,6], [3,4,5], [6,7,8], [1,1,2], [2,3,4]],\n",
        "                   [[1/3,1/2,1], [2,3,4], [1,2,3], [3,4,5], [1/4,1/3,1/2], [1,1,2]]\n",
        "])\n",
        "\n",
        "# judge3 = np.array([\n",
        "#                    [[1,1,2], [6,7,8], [2,3,4], [5,6,7], [4,5,6], [1/5,1/3,1/2]],\n",
        "#                    [[1/8,1/7,1/6], [1,1,2], [1/7,1/6,1/5], [1/4,1/3,1/2], [1/6,1/5,1/4], [1/10,1/9,1/8]],\n",
        "#                    [[1/4,1/3,1/2], [5,6,7], [1,1,2], [4,5,6], [2,3,4], [1/6,1/5,1/4]],\n",
        "#                    [[1/7,1/6,1/5], [2,3,4], [1/6,1/5,1/4], [1,1,2], [1/4,1/3,1/2], [1/8,1/7,1/6]],\n",
        "#                    [[1/6,1/5,1/4], [4,5,6], [1/4,1/3,1/2], [2,3,4], [1,1,2], [1/7,1/6,1/5]],\n",
        "#                    [[2,3,4], [8,9,10], [4,5,6], [6,7,8], [5,6,7], [1,1,2]]\n",
        "# ])\n",
        "# judge3 = np.array([\n",
        "#                    [[1,1,2], [6,7,8], [1,2,3], [1/4,1/3,1/2], [1,1,2], [2,3,4]],\n",
        "#                    [[1/8,1/7,1/6], [1,1,2], [7,8,9], [8,9,10], [1/3,1/2,1], [1/3,1/2,1]],\n",
        "#                    [[1/3,1/2,1], [1/9,1/8,1/7], [1,1,2], [2,3,4], [6,7,8], [1/8,1/7,1/6]],\n",
        "#                    [[2,3,4],[1/10,1/9,1/8], [1/4,1/3,1/2], [1,1,2], [1/10,1/9,1/8], [3,4,5]],\n",
        "#                    [[1,1,2], [1,2,3], [1/8,1/7,1/6], [8,9,10], [1,1,2], [4,5,6]],\n",
        "#                    [[1/4,1/3,1/2], [3,4,5], [6,7,8], [1/5,1/4,1/3], [1/6,1/5,1/4], [1,1,2]]\n",
        "# ])\n",
        "\n",
        "# judge4 = np.array([\n",
        "#                    [[1,1,2],[2,3,4], [8,9,10], [5,6,7], [7,8,9], [6,7,8]],\n",
        "#                    [[1/4,1/3,1/2], [1,1,2], [1/6,1/5,1/4], [1,2,3], [1/3,1/2,1], [1/4,1/3,1/2]],\n",
        "#                    [[1/10,1/9,1/8], [4,5,6], [1,1,2], [3,4,5], [1/4,1/3,1/2], [1/3,1/2,1]],\n",
        "#                    [[1/7,1/6,1/5], [1/3,1/2,1], [1/5,1/4,1/3], [1,1,2], [1,1,2], [3,4,5]],\n",
        "#                    [[1/9,1/8,1/7], [1,2,3], [2,3,4], [1,1,2], [1,1,2], [4,5,6]],\n",
        "#                    [[1/8,1/7,1/6], [2,3,4], [1,2,3], [1/5,1/4,1/3], [1/6,1/5,1/4], [1,1,2]]\n",
        "# ])\n",
        "# print(judge1)\n",
        "# print(judge2)"
      ],
      "execution_count": null,
      "outputs": []
    },
    {
      "cell_type": "markdown",
      "metadata": {
        "id": "HxXvOaBtNEfg"
      },
      "source": [
        "(3) SYNTHETIC JUDGEMENT"
      ]
    },
    {
      "cell_type": "code",
      "metadata": {
        "colab": {
          "base_uri": "https://localhost:8080/"
        },
        "id": "HbFpaJZ2lJFp",
        "outputId": "6395f5fd-3077-4eff-8f15-ca0e328d55d5"
      },
      "source": [
        "synJudge = judge1*judge2\n",
        "print(synJudge)"
      ],
      "execution_count": null,
      "outputs": [
        {
          "output_type": "stream",
          "text": [
            "[[[1.00000000e+00 1.00000000e+00 4.00000000e+00]\n",
            "  [1.80000000e+01 2.80000000e+01 4.00000000e+01]\n",
            "  [8.00000000e+00 1.50000000e+01 2.40000000e+01]\n",
            "  [1.20000000e+01 2.00000000e+01 3.00000000e+01]\n",
            "  [6.66666667e-01 1.50000000e+00 4.00000000e+00]\n",
            "  [1.00000000e+00 4.00000000e+00 9.00000000e+00]]\n",
            "\n",
            " [[2.50000000e-02 3.57142857e-02 5.55555556e-02]\n",
            "  [1.00000000e+00 1.00000000e+00 4.00000000e+00]\n",
            "  [1.11111111e-01 2.50000000e-01 1.00000000e+00]\n",
            "  [2.50000000e-01 6.66666667e-01 1.50000000e+00]\n",
            "  [3.33333333e-02 5.00000000e-02 8.33333333e-02]\n",
            "  [4.16666667e-02 6.66666667e-02 8.33333333e-02]]\n",
            "\n",
            " [[4.16666667e-02 6.66666667e-02 1.25000000e-01]\n",
            "  [1.00000000e+00 4.00000000e+00 9.00000000e+00]\n",
            "  [1.00000000e+00 1.00000000e+00 4.00000000e+00]\n",
            "  [6.66666667e-01 1.50000000e+00 4.00000000e+00]\n",
            "  [7.50000000e-01 1.33333333e+00 2.50000000e+00]\n",
            "  [6.66666667e-02 1.25000000e-01 3.33333333e-01]]\n",
            "\n",
            " [[3.33333333e-02 5.00000000e-02 8.33333333e-02]\n",
            "  [6.66666667e-01 1.50000000e+00 4.00000000e+00]\n",
            "  [2.50000000e-01 6.66666667e-01 1.50000000e+00]\n",
            "  [1.00000000e+00 1.00000000e+00 4.00000000e+00]\n",
            "  [4.16666667e-02 7.14285714e-02 1.66666667e-01]\n",
            "  [5.00000000e-02 8.33333333e-02 1.66666667e-01]]\n",
            "\n",
            " [[2.50000000e-01 6.66666667e-01 1.50000000e+00]\n",
            "  [1.20000000e+01 2.00000000e+01 3.00000000e+01]\n",
            "  [6.00000000e+00 1.20000000e+01 2.00000000e+01]\n",
            "  [6.00000000e+00 1.40000000e+01 2.40000000e+01]\n",
            "  [1.00000000e+00 1.00000000e+00 4.00000000e+00]\n",
            "  [6.66666667e-01 1.50000000e+00 4.00000000e+00]]\n",
            "\n",
            " [[1.11111111e-01 2.50000000e-01 1.00000000e+00]\n",
            "  [8.00000000e+00 1.50000000e+01 2.40000000e+01]\n",
            "  [3.00000000e+00 8.00000000e+00 1.50000000e+01]\n",
            "  [6.00000000e+00 1.20000000e+01 2.00000000e+01]\n",
            "  [2.50000000e-01 6.66666667e-01 1.50000000e+00]\n",
            "  [1.00000000e+00 1.00000000e+00 4.00000000e+00]]]\n"
          ],
          "name": "stdout"
        }
      ]
    },
    {
      "cell_type": "markdown",
      "metadata": {
        "id": "4aX7jpgaNyr3"
      },
      "source": [
        "(4) FUZZY WEIGHT"
      ]
    },
    {
      "cell_type": "code",
      "metadata": {
        "colab": {
          "base_uri": "https://localhost:8080/"
        },
        "id": "NGCaRXmBlML7",
        "outputId": "fe32a042-d72c-4317-927d-c2572ebcdedb"
      },
      "source": [
        "resR = np.ones((6,3))\n",
        "for i in range (6):\n",
        "  for j in range (6):\n",
        "    resR[i] = resR[i]*synJudge[i][j]\n",
        "  print(f\"r{(i+1)} : {resR[i]}\")"
      ],
      "execution_count": null,
      "outputs": [
        {
          "output_type": "stream",
          "text": [
            "r1 : [1.1520e+03 5.0400e+04 4.1472e+06]\n",
            "r2 : [9.64506173e-07 1.98412698e-05 2.31481481e-03]\n",
            "r3 : [1.38888889e-03 6.66666667e-02 1.50000000e+01]\n",
            "r4 : [1.15740741e-05 2.97619048e-04 5.55555556e-02]\n",
            "r5 : [7.200e+01 3.360e+03 3.456e+05]\n",
            "r6 : [4.00e+00 2.40e+02 4.32e+04]\n"
          ],
          "name": "stdout"
        }
      ]
    },
    {
      "cell_type": "markdown",
      "metadata": {
        "id": "_i_KR5e4PzrY"
      },
      "source": [
        "MENGHITUNG W"
      ]
    },
    {
      "cell_type": "code",
      "metadata": {
        "colab": {
          "base_uri": "https://localhost:8080/"
        },
        "id": "07Sb1o0KlP6P",
        "outputId": "12f1983c-cf2a-45c9-96e3-7108d2edd3b3"
      },
      "source": [
        "addRtemp = np.zeros((1,3)) #jumlah r\n",
        "addR = np.zeros((1,3)) #1/jumlah r\n",
        "for i in range (6):\n",
        "  addRtemp[0] = addRtemp[0]+resR[i]\n",
        "for j in range (3):\n",
        "  addR[0][j] = 1/addRtemp[0][j] \n",
        "  \n",
        "print(f\"sigma r = {addRtemp}\")\n",
        "print(f\"1/sigma r = {addR}\")"
      ],
      "execution_count": null,
      "outputs": [
        {
          "output_type": "stream",
          "text": [
            "sigma r = [[1.22800140e+03 5.40000670e+04 4.53601506e+06]]\n",
            "1/sigma r = [[8.14331318e-04 1.85184955e-05 2.20457822e-07]]\n"
          ],
          "name": "stdout"
        }
      ]
    },
    {
      "cell_type": "code",
      "metadata": {
        "colab": {
          "base_uri": "https://localhost:8080/"
        },
        "id": "o_IS0l4dlULZ",
        "outputId": "a106164d-2b05-44f3-c979-d3864327b50d"
      },
      "source": [
        "wTNF = np.empty((6,3))\n",
        "for i in range (6):\n",
        "  wTNF[i] = resR[i]*addR\n",
        "  print(f\"W{i+1} : {wTNF[i]}\")"
      ],
      "execution_count": null,
      "outputs": [
        {
          "output_type": "stream",
          "text": [
            "W1 : [0.93810968 0.93333218 0.91428268]\n",
            "W2 : [7.85427583e-10 3.67430467e-10 5.10319032e-10]\n",
            "W3 : [1.13101572e-06 1.23456637e-06 3.30686733e-06]\n",
            "W4 : [9.42513100e-09 5.51145701e-09 1.22476568e-08]\n",
            "W5 : [0.05863185 0.06222215 0.07619022]\n",
            "W6 : [0.00325733 0.00444444 0.00952378]\n"
          ],
          "name": "stdout"
        }
      ]
    },
    {
      "cell_type": "markdown",
      "metadata": {
        "id": "yiyx7gQSQ8dW"
      },
      "source": [
        "(4) CALCULATE BNP"
      ]
    },
    {
      "cell_type": "code",
      "metadata": {
        "id": "LXW7e7VtlaJ6",
        "colab": {
          "base_uri": "https://localhost:8080/"
        },
        "outputId": "13b595ab-9fd6-4683-ccce-3781620bf695"
      },
      "source": [
        "W = np.empty((6))\n",
        "for i in range (6):\n",
        "  W[i] = (((wTNF[i][2]-wTNF[i][0])+(wTNF[i][1]-wTNF[i][0]))/3 + wTNF[i][0])\n",
        "print(W[0]+W[1]+W[2]+W[3]+W[4]+W[5])"
      ],
      "execution_count": null,
      "outputs": [
        {
          "output_type": "stream",
          "text": [
            "1.0\n"
          ],
          "name": "stdout"
        }
      ]
    },
    {
      "cell_type": "code",
      "metadata": {
        "colab": {
          "base_uri": "https://localhost:8080/"
        },
        "id": "B6XSVr4n2qKV",
        "outputId": "b053846c-4076-4daf-d949-ed9fd7b69dc8"
      },
      "source": [
        "print('WEIGH MASING-MASING KRITERIA\\n------------------------------\\n')\n",
        "for i in range (6):\n",
        "  print('W'+str(i)+' = '+str(W[i]))"
      ],
      "execution_count": null,
      "outputs": [
        {
          "output_type": "stream",
          "text": [
            "WEIGH MASING-MASING KRITERIA\n",
            "------------------------------\n",
            "\n",
            "W0 = 0.9285748444577255\n",
            "W1 = 5.54392360888141e-10\n",
            "W2 = 1.8908164729505245e-06\n",
            "W3 = 9.061414927052273e-09\n",
            "W4 = 0.06568140773913983\n",
            "W5 = 0.005741847370854471\n"
          ],
          "name": "stdout"
        }
      ]
    },
    {
      "cell_type": "markdown",
      "metadata": {
        "id": "u6p9ACaKRk6G"
      },
      "source": [
        "TAHAP ELECTRE\n",
        "===============================================\n",
        "STEP 1: MATRIX NORMALIZATION"
      ]
    },
    {
      "cell_type": "code",
      "metadata": {
        "id": "nN-a4dTLXoOj"
      },
      "source": [
        "def normalized_decision(data: [], root_arr: []):\n",
        "  # , root_arr: []\n",
        "    criteria = data\n",
        "    root = []\n",
        "    normal = []\n",
        "    for i, row in enumerate(root_arr):\n",
        "        tmp = 0\n",
        "        for col in row:\n",
        "            tmp += math.pow(col, 2)\n",
        "        root.append(math.sqrt(tmp))\n",
        "\n",
        "    for row in criteria:\n",
        "        tmp = []\n",
        "        for index, col in enumerate(row):\n",
        "            res = col/root[index]\n",
        "            tmp.append(res)\n",
        "        normal.append(tmp)\n",
        "\n",
        "    return np.array(normal)"
      ],
      "execution_count": null,
      "outputs": []
    },
    {
      "cell_type": "markdown",
      "metadata": {
        "id": "-fkoezFUSEHe"
      },
      "source": [
        "STEP 2: COMPOSING WEIGTED"
      ]
    },
    {
      "cell_type": "code",
      "metadata": {
        "id": "QmQK_n6TXr6q"
      },
      "source": [
        "def weighted_normalized(matrix: [], weight: []):\n",
        "    result = []\n",
        "    for row in matrix:\n",
        "        tmp = []\n",
        "        for i, col in enumerate(row):\n",
        "            res = col * weight[i]\n",
        "            tmp.append(res)\n",
        "        result.append(tmp)\n",
        "    return result"
      ],
      "execution_count": null,
      "outputs": []
    },
    {
      "cell_type": "markdown",
      "metadata": {
        "id": "VmpCGhjzSa1l"
      },
      "source": [
        "STEP 3: SET OF N INDEX OF CONCORDANCE AND DISCONDANCE"
      ]
    },
    {
      "cell_type": "code",
      "metadata": {
        "id": "KjECv5fXRV90"
      },
      "source": [
        "def indexing_concordance(data: [], x: int, y: int):\n",
        "    matrix = []\n",
        "    tmp_a = data[x-1]\n",
        "    tmp_b = data[y-1]\n",
        "    for i, col in enumerate(tmp_a):\n",
        "        res = 1 if col >= tmp_b[i] else 0\n",
        "        matrix.append(res)\n",
        "    return matrix\n",
        "  \n",
        "def indexing_discordance(data: [], x: int, y: int):\n",
        "    matrix = []\n",
        "    tmp_a = data[x - 1]\n",
        "    tmp_b = data[y - 1]\n",
        "    for i, col in enumerate(tmp_a):\n",
        "        res = 1 if col < tmp_b[i] else 0\n",
        "        matrix.append(res)\n",
        "    return matrix"
      ],
      "execution_count": null,
      "outputs": []
    },
    {
      "cell_type": "code",
      "metadata": {
        "id": "nZg7rcvuXvQ7"
      },
      "source": [
        "def index_table(data: [], type: str):\n",
        "    result = []\n",
        "    for i, row1 in enumerate(data):\n",
        "        for j, row2 in enumerate(data):\n",
        "            x = i+1\n",
        "            y = j+1\n",
        "            if x is not y:\n",
        "                if type is \"concordance\":\n",
        "                    tmp: [] = indexing_concordance(data, x, y)\n",
        "                    idt = (x, y)\n",
        "                    result.append([idt, tmp])\n",
        "                else:\n",
        "                    tmp: [] = indexing_discordance(data, x, y)\n",
        "                    idt = (x, y)\n",
        "                    result.append([idt, tmp])\n",
        "    return np.array(result)"
      ],
      "execution_count": null,
      "outputs": []
    },
    {
      "cell_type": "markdown",
      "metadata": {
        "id": "SynJd9xVSn3u"
      },
      "source": [
        "STEP 4: CONCONRDANCE AND DISCONCORDANCE SUPREMACY"
      ]
    },
    {
      "cell_type": "code",
      "metadata": {
        "id": "SleHEsdmXvTi"
      },
      "source": [
        "def concordance(data: [], w: []):\n",
        "    result = []\n",
        "    for x, row1 in enumerate(data):\n",
        "        tmp = []\n",
        "        for y, row2 in enumerate(data):\n",
        "            if x is y:\n",
        "                tmp.append(0)\n",
        "            else:\n",
        "                tmp_arr = indexing_concordance(data, x+1, y+1)\n",
        "                sum = 0\n",
        "                for i, cell in enumerate(tmp_arr):\n",
        "                    sum += 0 if cell is 0 else w[i]\n",
        "                tmp.append(sum)\n",
        "        result.append(tmp)\n",
        "    return result"
      ],
      "execution_count": null,
      "outputs": []
    },
    {
      "cell_type": "code",
      "metadata": {
        "id": "epROjTgtXvYe"
      },
      "source": [
        "def discordance(data: []):\n",
        "    result = []\n",
        "    tmp_res = []\n",
        "    for x, row in enumerate(data):\n",
        "        for y, row2 in enumerate(data):\n",
        "            if x is y:\n",
        "                tmp_res.append(0)\n",
        "            elif x != y:\n",
        "                tmp = []\n",
        "                tmp2 = []\n",
        "                for k in range(len(data[0])):\n",
        "                    idx = indexing_discordance(data, x+1, y+1)\n",
        "                    diff = abs(data[x][k] - data[y][k])\n",
        "                    if idx[k] == 1:\n",
        "                        disc = diff\n",
        "                    else:\n",
        "                        disc = 0\n",
        "                    tmp.append(disc)\n",
        "                    tmp2.append(diff)\n",
        "                max1 = max(tmp)\n",
        "                max2 = max(tmp2)\n",
        "                res = max1/max2\n",
        "                tmp_res.append(res)\n",
        "\n",
        "    result = np.reshape(tmp_res, (-1, 6))\n",
        "    return result"
      ],
      "execution_count": null,
      "outputs": []
    },
    {
      "cell_type": "code",
      "metadata": {
        "id": "8uafSHfoX3X8"
      },
      "source": [
        "def threshold(matrix: []):\n",
        "    total = 0\n",
        "    count = 0\n",
        "    for row in matrix:\n",
        "        for col in row:\n",
        "            total += col\n",
        "        count += 1\n",
        "    return total / (count*(count-1))"
      ],
      "execution_count": null,
      "outputs": []
    },
    {
      "cell_type": "markdown",
      "metadata": {
        "id": "80UqnTQmS4Sr"
      },
      "source": [
        "STEP 5: TOTAL MATRIX"
      ]
    },
    {
      "cell_type": "code",
      "metadata": {
        "id": "Pti6bd80Xvct"
      },
      "source": [
        "def dominan_concordance(cor: [], threshold: float):\n",
        "    tmp_res = []\n",
        "    resultC = []\n",
        "    for row in cor:\n",
        "        tmp = []\n",
        "        for col in row:\n",
        "            x = 1 if col > threshold else 0\n",
        "            tmp.append(x)\n",
        "        tmp_res.append(tmp)\n",
        "    resultC = np.array(tmp_res)\n",
        "    \n",
        "    return resultC"
      ],
      "execution_count": null,
      "outputs": []
    },
    {
      "cell_type": "code",
      "metadata": {
        "id": "-vOxs18xYW2z"
      },
      "source": [
        "def dominan_discordance(dis: [], threshold: float):\n",
        "    tmp_res =[]\n",
        "    resultD = []\n",
        "    for row in dis:\n",
        "        tmp = []\n",
        "        for col in row:\n",
        "            x = 1 if col > threshold else 0\n",
        "            tmp.append(x)\n",
        "        tmp_res.append(tmp)\n",
        "    resultD = np.array(tmp_res)\n",
        "\n",
        "    return resultD"
      ],
      "execution_count": null,
      "outputs": []
    },
    {
      "cell_type": "markdown",
      "metadata": {
        "id": "JLmpsZ8oS9MV"
      },
      "source": [
        "METHOD MAIN"
      ]
    },
    {
      "cell_type": "code",
      "metadata": {
        "id": "ePdo_qwJX9aN"
      },
      "source": [
        "def main():\n",
        "    data_arr = dfNew.to_numpy()\n",
        "    print(dfNew)\n",
        "    weight = W\n",
        "    data = np.array(data_arr)\n",
        "\n",
        "    norm = normalized_decision(data, data.transpose())\n",
        "    print(\"\\n\\nSTEP1: Normalized : \\n\")\n",
        "    dfNorm = pd.DataFrame(norm, columns = ['C1', 'C2', 'C3', 'C4', 'C5', 'C6'], index = ['A1', 'A2', 'A3', 'A4', 'A5', 'A6', 'A7','A8','A9','A10','A11','A12','A13','A14','A15','A16','A17','A18','A19','A20','A21','A22','A23','A24','A25','A26','A27','A28','A29','A30','A31','A32','A33','A34'])\n",
        "    print(dfNorm)\n",
        "\n",
        "    norm_weight = weighted_normalized(norm, weight)\n",
        "    dfNorm_weight = pd.DataFrame(norm_weight, columns = ['C1', 'C2', 'C3', 'C4', 'C5', 'C6'], index = ['A1', 'A2', 'A3', 'A4', 'A5', 'A6', 'A7','A8','A9','A10','A11','A12','A13','A14','A15','A16','A17','A18','A19','A20','A21','A22','A23','A24','A25','A26','A27','A28','A29','A30','A31','A32','A33','A34'])\n",
        "    print(\"\\n\\nSTEP2: Weighted Normalized : \\n\")\n",
        "    print(dfNorm_weight)\n",
        "\n",
        "    print(\"\\n\\nSTEP3: Set Index of Concordance and Discordance:\\n\")\n",
        "    index_tables = index_table(norm_weight, \"concordance\")\n",
        "    print(\"index concordance:\\n\", index_tables)\n",
        "    index_tables = index_table(norm_weight, \"discordance\")\n",
        "    print(\"\\nindex discordance:\\n\", index_tables)\n",
        "\n",
        "    cor = concordance(data_arr, weight)\n",
        "    print(\"concordance:\\n\\n\", np.array(cor))\n",
        "    dis = discordance(norm_weight)\n",
        "    print(\"\\ndiscondance:\\n\\n\", np.array(dis))\n",
        "    print(\"===================================\")\n",
        "\n",
        "    print(\"\\n\\nSTEP4: Concordance and Discordance Supremacy:\\n\")\n",
        "    trs = threshold(cor)\n",
        "    print(\"Threshold:\", trs)\n",
        "    Res_cor = dominan_concordance(cor, trs)\n",
        "    print(\"concordance:\\n\", Res_cor)\n",
        "\n",
        "    trsD = threshold(dis)\n",
        "    print(\"\\nThreshold:\", trsD)\n",
        "    Res_dis = dominan_discordance(dis, trsD)\n",
        "    print(\"discordance:\\n\", Res_dis)\n",
        "\n",
        "    print(\"\\n\\nSTEP5: MATRIX TOTAL:\\n\")\n",
        "    matrix_total = np.array(Res_cor)*np.array(Res_dis)\n",
        "    dfTotal = pd.DataFrame(matrix_total, columns = ['A1', 'A2', 'A3', 'A4', 'A5', 'A6', 'A7','A8','A9','A10','A11','A12','A13','A14','A15','A16','A17','A18','A19','A20','A21','A22','A23','A24','A25','A26','A27','A28','A29','A30','A31','A32','A33','A34'], index = ['A1', 'A2', 'A3', 'A3', 'A5', 'A6', 'A7','A8','A9','A10','A11','A12','A13','A14','A15','A16','A17','A18','A19','A20','A21','A22','A23','A24','A25','A26','A27','A28','A29','A30','A31','A32','A33','A34'])\n",
        "    print(\"Matrix Total:\\n\", dfTotal)\n",
        "    "
      ],
      "execution_count": null,
      "outputs": []
    },
    {
      "cell_type": "code",
      "metadata": {
        "id": "RpYqvrmk-x_Q"
      },
      "source": [
        "def main():\n",
        "    data_arr = dfNew.to_numpy()\n",
        "    print(dfNew)\n",
        "    weight = W\n",
        "    data = np.array(data_arr)\n",
        "\n",
        "    norm = normalized_decision(data, data.transpose())\n",
        "    print(\"\\n\\nSTEP1: Normalized : \\n\")\n",
        "    dfNorm = pd.DataFrame(norm, columns = ['C1', 'C2', 'C3', 'C4', 'C5', 'C6'], index = ['A1', 'A2', 'A3', 'A4', 'A5', 'A6'])\n",
        "    print(dfNorm)\n",
        "\n",
        "    norm_weight = weighted_normalized(norm, weight)\n",
        "    dfNorm_weight = pd.DataFrame(norm_weight, columns = ['C1', 'C2', 'C3', 'C4', 'C5', 'C6'], index = ['A1', 'A2', 'A3', 'A4', 'A5', 'A6'])\n",
        "    print(\"\\n\\nSTEP2: Weighted Normalized : \\n\")\n",
        "    print(dfNorm_weight)\n",
        "\n",
        "    print(\"\\n\\nSTEP3: Set Index of Concordance and Discordance:\\n\")\n",
        "    index_tables = index_table(norm_weight, \"concordance\")\n",
        "    print(\"index concordance:\\n\", index_tables)\n",
        "    index_tables = index_table(norm_weight, \"discordance\")\n",
        "    print(\"\\nindex discordance:\\n\", index_tables)\n",
        "\n",
        "    cor = concordance(data_arr, weight)\n",
        "    print(\"concordance:\\n\\n\", np.array(cor))\n",
        "    dis = discordance(norm_weight)\n",
        "    print(\"\\ndiscondance:\\n\\n\", np.array(dis))\n",
        "    print(\"===================================\")\n",
        "\n",
        "    print(\"\\n\\nSTEP4: Concordance and Discordance Supremacy:\\n\")\n",
        "    trs = threshold(cor)\n",
        "    print(\"Threshold:\", trs)\n",
        "    Res_cor = dominan_concordance(cor, trs)\n",
        "    print(\"concordance:\\n\", Res_cor)\n",
        "\n",
        "    trsD = threshold(dis)\n",
        "    print(\"\\nThreshold:\", trsD)\n",
        "    Res_dis = dominan_discordance(dis, trsD)\n",
        "    print(\"discordance:\\n\", Res_dis)\n",
        "\n",
        "    print(\"\\n\\nSTEP5: MATRIX TOTAL:\\n\")\n",
        "    matrix_total = np.array(Res_cor)*np.array(Res_dis)\n",
        "    dfTotal = pd.DataFrame(matrix_total, columns = ['A1', 'A2', 'A3', 'A4', 'A5', 'A6'], index = ['A1', 'A2', 'A3', 'A4', 'A5', 'A6'])\n",
        "    print(\"Matrix Total:\\n\", dfTotal)"
      ],
      "execution_count": null,
      "outputs": []
    },
    {
      "cell_type": "code",
      "metadata": {
        "colab": {
          "base_uri": "https://localhost:8080/"
        },
        "id": "uBg6UG-bX9hP",
        "outputId": "940f2e46-0dd6-46d5-a119-1fbf286bb8b1"
      },
      "source": [
        "main()"
      ],
      "execution_count": null,
      "outputs": [
        {
          "output_type": "stream",
          "text": [
            "               C1       C2     C3       C4       C5     C6\n",
            "alternatif                                                \n",
            "A1          15900   496.84  33.80   707707  1035784   8.21\n",
            "A2           1394  4188.52  32.04   751785  2312831   9.59\n",
            "A3           1058  4119.93  35.63   572837  1092459  13.81\n",
            "A4           1227   503.14  38.07   369831   277830  14.71\n",
            "A5            831  4585.97  32.80   818111  1038899  13.38\n",
            "A6           1338   857.64  32.22  1308214   795314   6.60\n",
            "\n",
            "\n",
            "STEP1: Normalized : \n",
            "\n",
            "          C1        C2        C3        C4        C5        C6\n",
            "A1  0.986344  0.065933  0.403936  0.357826  0.337754  0.292273\n",
            "A2  0.086476  0.555836  0.382902  0.380113  0.754181  0.341401\n",
            "A3  0.065632  0.546734  0.425805  0.289634  0.356235  0.491631\n",
            "A4  0.076116  0.066769  0.454965  0.186991  0.090596  0.523671\n",
            "A5  0.051550  0.608580  0.391985  0.413648  0.338770  0.476323\n",
            "A6  0.083002  0.113813  0.385053  0.661450  0.259340  0.234958\n",
            "\n",
            "\n",
            "STEP2: Weighted Normalized : \n",
            "\n",
            "          C1            C2            C3            C4        C5        C6\n",
            "A1  0.915894  3.655275e-11  7.637680e-07  3.242411e-09  0.022184  0.001678\n",
            "A2  0.080299  3.081514e-10  7.239979e-07  3.444357e-09  0.049536  0.001960\n",
            "A3  0.060944  3.031052e-10  8.051200e-07  2.624494e-09  0.023398  0.002823\n",
            "A4  0.070679  3.701625e-11  8.602559e-07  1.694407e-09  0.005950  0.003007\n",
            "A5  0.047868  3.373920e-10  7.411714e-07  3.748235e-09  0.022251  0.002735\n",
            "A6  0.077073  6.309698e-11  7.280653e-07  5.993677e-09  0.017034  0.001349\n",
            "\n",
            "\n",
            "STEP3: Set Index of Concordance and Discordance:\n",
            "\n",
            "index concordance:\n",
            " [[(1, 2) list([1, 0, 1, 0, 0, 0])]\n",
            " [(1, 3) list([1, 0, 0, 1, 0, 0])]\n",
            " [(1, 4) list([1, 0, 0, 1, 1, 0])]\n",
            " [(1, 5) list([1, 0, 1, 0, 0, 0])]\n",
            " [(1, 6) list([1, 0, 1, 0, 1, 1])]\n",
            " [(2, 1) list([0, 1, 0, 1, 1, 1])]\n",
            " [(2, 3) list([1, 1, 0, 1, 1, 0])]\n",
            " [(2, 4) list([1, 1, 0, 1, 1, 0])]\n",
            " [(2, 5) list([1, 0, 0, 0, 1, 0])]\n",
            " [(2, 6) list([1, 1, 0, 0, 1, 1])]\n",
            " [(3, 1) list([0, 1, 1, 0, 1, 1])]\n",
            " [(3, 2) list([0, 0, 1, 0, 0, 1])]\n",
            " [(3, 4) list([0, 1, 0, 1, 1, 0])]\n",
            " [(3, 5) list([1, 0, 1, 0, 1, 1])]\n",
            " [(3, 6) list([0, 1, 1, 0, 1, 1])]\n",
            " [(4, 1) list([0, 1, 1, 0, 0, 1])]\n",
            " [(4, 2) list([0, 0, 1, 0, 0, 1])]\n",
            " [(4, 3) list([1, 0, 1, 0, 0, 1])]\n",
            " [(4, 5) list([1, 0, 1, 0, 0, 1])]\n",
            " [(4, 6) list([0, 0, 1, 0, 0, 1])]\n",
            " [(5, 1) list([0, 1, 0, 1, 1, 1])]\n",
            " [(5, 2) list([0, 1, 1, 1, 0, 1])]\n",
            " [(5, 3) list([0, 1, 0, 1, 0, 0])]\n",
            " [(5, 4) list([0, 1, 0, 1, 1, 0])]\n",
            " [(5, 6) list([0, 1, 1, 0, 1, 1])]\n",
            " [(6, 1) list([0, 1, 0, 1, 0, 0])]\n",
            " [(6, 2) list([0, 0, 1, 1, 0, 0])]\n",
            " [(6, 3) list([1, 0, 0, 1, 0, 0])]\n",
            " [(6, 4) list([1, 1, 0, 1, 1, 0])]\n",
            " [(6, 5) list([1, 0, 0, 1, 0, 0])]]\n",
            "\n",
            "index discordance:\n",
            " [[(1, 2) list([0, 1, 0, 1, 1, 1])]\n",
            " [(1, 3) list([0, 1, 1, 0, 1, 1])]\n",
            " [(1, 4) list([0, 1, 1, 0, 0, 1])]\n",
            " [(1, 5) list([0, 1, 0, 1, 1, 1])]\n",
            " [(1, 6) list([0, 1, 0, 1, 0, 0])]\n",
            " [(2, 1) list([1, 0, 1, 0, 0, 0])]\n",
            " [(2, 3) list([0, 0, 1, 0, 0, 1])]\n",
            " [(2, 4) list([0, 0, 1, 0, 0, 1])]\n",
            " [(2, 5) list([0, 1, 1, 1, 0, 1])]\n",
            " [(2, 6) list([0, 0, 1, 1, 0, 0])]\n",
            " [(3, 1) list([1, 0, 0, 1, 0, 0])]\n",
            " [(3, 2) list([1, 1, 0, 1, 1, 0])]\n",
            " [(3, 4) list([1, 0, 1, 0, 0, 1])]\n",
            " [(3, 5) list([0, 1, 0, 1, 0, 0])]\n",
            " [(3, 6) list([1, 0, 0, 1, 0, 0])]\n",
            " [(4, 1) list([1, 0, 0, 1, 1, 0])]\n",
            " [(4, 2) list([1, 1, 0, 1, 1, 0])]\n",
            " [(4, 3) list([0, 1, 0, 1, 1, 0])]\n",
            " [(4, 5) list([0, 1, 0, 1, 1, 0])]\n",
            " [(4, 6) list([1, 1, 0, 1, 1, 0])]\n",
            " [(5, 1) list([1, 0, 1, 0, 0, 0])]\n",
            " [(5, 2) list([1, 0, 0, 0, 1, 0])]\n",
            " [(5, 3) list([1, 0, 1, 0, 1, 1])]\n",
            " [(5, 4) list([1, 0, 1, 0, 0, 1])]\n",
            " [(5, 6) list([1, 0, 0, 1, 0, 0])]\n",
            " [(6, 1) list([1, 0, 1, 0, 1, 1])]\n",
            " [(6, 2) list([1, 1, 0, 0, 1, 1])]\n",
            " [(6, 3) list([0, 1, 1, 0, 1, 1])]\n",
            " [(6, 4) list([0, 0, 1, 0, 0, 1])]\n",
            " [(6, 5) list([0, 1, 1, 0, 1, 1])]]\n",
            "concordance:\n",
            "\n",
            " [[0.00000000e+00 9.28576735e-01 9.28574854e-01 9.94256261e-01\n",
            "  9.28576735e-01 9.99999990e-01]\n",
            " [7.14232647e-02 0.00000000e+00 9.94256262e-01 9.94256262e-01\n",
            "  9.94256252e-01 9.99998100e-01]\n",
            " [7.14251465e-02 5.74373819e-03 0.00000000e+00 6.56814174e-02\n",
            "  9.99999990e-01 7.14251465e-02]\n",
            " [5.74373874e-03 5.74373819e-03 9.34318583e-01 0.00000000e+00\n",
            "  9.34318583e-01 5.74373819e-03]\n",
            " [7.14232647e-02 5.74374780e-03 9.61580729e-09 6.56814174e-02\n",
            "  0.00000000e+00 7.14251465e-02]\n",
            " [9.61580729e-09 1.89987789e-06 9.28574854e-01 9.94256262e-01\n",
            "  9.28574854e-01 0.00000000e+00]]\n",
            "\n",
            "discondance:\n",
            "\n",
            " [[0.00000000e+00 3.27329453e-02 1.41979283e-03 1.57196858e-03\n",
            "  1.21746233e-03 3.27992194e-09]\n",
            " [1.00000000e+00 0.00000000e+00 3.30022661e-02 2.40120302e-02\n",
            "  2.38880246e-02 1.25143921e-07]\n",
            " [1.00000000e+00 1.00000000e+00 0.00000000e+00 5.57957297e-01\n",
            "  8.59393604e-08 1.00000000e+00]\n",
            " [1.00000000e+00 1.00000000e+00 1.00000000e+00 0.00000000e+00\n",
            "  7.14586362e-01 1.00000000e+00]\n",
            " [1.00000000e+00 1.00000000e+00 1.00000000e+00 1.00000000e+00\n",
            "  0.00000000e+00 1.00000000e+00]\n",
            " [1.00000000e+00 1.00000000e+00 3.94581093e-01 1.49571026e-01\n",
            "  1.78635783e-01 0.00000000e+00]]\n",
            "===================================\n",
            "\n",
            "\n",
            "STEP4: Concordance and Discordance Supremacy:\n",
            "\n",
            "Threshold: 0.49999999999999994\n",
            "concordance:\n",
            " [[0 1 1 1 1 1]\n",
            " [0 0 1 1 1 1]\n",
            " [0 0 0 0 1 0]\n",
            " [0 0 1 0 1 0]\n",
            " [0 0 0 0 0 0]\n",
            " [0 0 1 1 1 0]]\n",
            "\n",
            "Threshold: 0.5704392088547171\n",
            "discordance:\n",
            " [[0 0 0 0 0 0]\n",
            " [1 0 0 0 0 0]\n",
            " [1 1 0 0 0 1]\n",
            " [1 1 1 0 1 1]\n",
            " [1 1 1 1 0 1]\n",
            " [1 1 0 0 0 0]]\n",
            "\n",
            "\n",
            "STEP5: MATRIX TOTAL:\n",
            "\n",
            "Matrix Total:\n",
            "     A1  A2  A3  A4  A5  A6\n",
            "A1   0   0   0   0   0   0\n",
            "A2   0   0   0   0   0   0\n",
            "A3   0   0   0   0   0   0\n",
            "A4   0   0   1   0   1   0\n",
            "A5   0   0   0   0   0   0\n",
            "A6   0   0   0   0   0   0\n"
          ],
          "name": "stdout"
        },
        {
          "output_type": "stream",
          "text": [
            "/usr/local/lib/python3.7/dist-packages/ipykernel_launcher.py:16: VisibleDeprecationWarning: Creating an ndarray from ragged nested sequences (which is a list-or-tuple of lists-or-tuples-or ndarrays with different lengths or shapes) is deprecated. If you meant to do this, you must specify 'dtype=object' when creating the ndarray\n",
            "  app.launch_new_instance()\n"
          ],
          "name": "stderr"
        }
      ]
    }
  ]
}